{
 "cells": [
  {
   "cell_type": "markdown",
   "id": "00d7ec28",
   "metadata": {},
   "source": [
    "## For YouTube Videos"
   ]
  },
  {
   "cell_type": "code",
   "execution_count": 1,
   "id": "29d1de7c",
   "metadata": {},
   "outputs": [],
   "source": [
    "from googleapiclient.discovery import build\n",
    "import pandas as pd\n",
    "import seaborn as sns\n",
    "import csv\n",
    "import re"
   ]
  },
  {
   "cell_type": "markdown",
   "id": "1e3acede",
   "metadata": {},
   "source": [
    "##### Please Enter your api key below before using the code"
   ]
  },
  {
   "cell_type": "code",
   "execution_count": 2,
   "id": "20ba87ba",
   "metadata": {},
   "outputs": [],
   "source": [
    "api_key = 'Enter your API key here'\n",
    "\n",
    "youtube = build('youtube', 'v3', developerKey=api_key)"
   ]
  },
  {
   "cell_type": "code",
   "execution_count": 3,
   "id": "015bf8c5",
   "metadata": {},
   "outputs": [],
   "source": [
    "st = input(\"Enter the link\")\n",
    "# st = 'https://www.youtube.com/watch?v=HkYWgkIqwHI'\n",
    "video_ids = []"
   ]
  },
  {
   "cell_type": "code",
   "execution_count": 4,
   "id": "447a1be8",
   "metadata": {},
   "outputs": [],
   "source": [
    "def YTvideo (string, video_ids):\n",
    "    a =''\n",
    "    count = 0\n",
    "    for i in string:\n",
    "        count += 1\n",
    "        if (count < 33):\n",
    "            continue\n",
    "        else:\n",
    "            a = a + i\n",
    "    video_ids.append(a)"
   ]
  },
  {
   "cell_type": "code",
   "execution_count": 5,
   "id": "72eb696d",
   "metadata": {},
   "outputs": [],
   "source": [
    "YTvideo (st, video_ids)"
   ]
  },
  {
   "cell_type": "code",
   "execution_count": 6,
   "id": "0d2d25c9",
   "metadata": {},
   "outputs": [
    {
     "data": {
      "text/plain": [
       "['qU3XIEOpxjo']"
      ]
     },
     "execution_count": 6,
     "metadata": {},
     "output_type": "execute_result"
    }
   ],
   "source": [
    "video_ids"
   ]
  },
  {
   "cell_type": "code",
   "execution_count": 7,
   "id": "613f2b54",
   "metadata": {},
   "outputs": [],
   "source": [
    "def get_video_details(youtube, video_ids):\n",
    "    all_video_stats = []\n",
    "    \n",
    "    for i in range(0, len(video_ids), 50):\n",
    "        request = youtube.videos().list(\n",
    "                    part='snippet,statistics',\n",
    "                    id=','.join(video_ids[i:i+50]))\n",
    "        response = request.execute()\n",
    "        \n",
    "        for video in response['items']:\n",
    "            video_stats = dict(Title = video['snippet']['title'],\n",
    "                               Description = video['snippet']['description']\n",
    "                               )\n",
    "            all_video_stats.append(video_stats)\n",
    "    \n",
    "    return all_video_stats"
   ]
  },
  {
   "cell_type": "code",
   "execution_count": 8,
   "id": "a9be64bb",
   "metadata": {},
   "outputs": [],
   "source": [
    "video_details = get_video_details(youtube, video_ids)"
   ]
  },
  {
   "cell_type": "code",
   "execution_count": 10,
   "id": "3dc31327",
   "metadata": {},
   "outputs": [],
   "source": [
    "# video_data = pd.DataFrame(video_details)\n",
    "video_data = video_details[0]['Title'] + video_details[0]['Description']"
   ]
  },
  {
   "cell_type": "code",
   "execution_count": 11,
   "id": "1dcc4925",
   "metadata": {},
   "outputs": [
    {
     "data": {
      "text/plain": [
       "\"Harry Potter And The Cursed Child (2022) Teaser Trailer | Warner Bros Pictures' Wizarding World (HD)#HarryPotterAndTheCursedChild #Wizarding World #WBPictures\\n\\nTake a look at our Teaser Trailer for Harry Potter And The Cursed Child (2022) (More Info About The Video Down Below!)\\n\\nLet us know what you think about it in the comments down below!\\n\\nWe've got more cool stuff for you! Subscribe! \\n► http://bit.ly/2NyxDcI\\n\\nWe also post cool stuff & updates on Instagram! Follow\\n► http://bit.ly/2HHjbeT\\n\\nInspiration behind this video: \\n\\nA reboot offers the Harry Potter franchise the chance for a new perspective. The original movies consisted of several different directors, each with their own different visions. Because of that, the tone and style of the Harry Potter movies change drastically throughout the franchise. A reboot that's not bound to the original films could bring about a more consistent vision and a new take on one of the most popular book series of all time.\\n\\nAdditionally, an existence outside the original movies provides the opportunity for storytelling in a new format. Adapting books to movies always brings disappointment, as films inevitably cut key characters and plots for time. A Harry Potter and the Cursed Child movie would have similar limitations. However, a TV series could provide the leeway for the franchise to cover plot points from the books that were either glossed over or entirely ignored. The early seasons of Game of Thrones are a perfect proof of concept. Ahead of season 5, Game of Thrones stuck closely to George R.R. Martin's novels, receiving praise from fans and critics. A Harry Potter TV series could have similar mischief managed.\\n\\nThank You So Much For Watching!\\nStay Tuned! Stay Buzzed!\\n\\n──────────────────\""
      ]
     },
     "execution_count": 11,
     "metadata": {},
     "output_type": "execute_result"
    }
   ],
   "source": [
    "video_data"
   ]
  },
  {
   "cell_type": "code",
   "execution_count": 12,
   "id": "753f97d2",
   "metadata": {},
   "outputs": [],
   "source": [
    "# video_data.to_csv('Video_Details.txt')"
   ]
  },
  {
   "cell_type": "code",
   "execution_count": 15,
   "id": "ae52c9fb",
   "metadata": {},
   "outputs": [],
   "source": [
    "# f1 = open('Video_Details.txt','r', encoding=\"utf8\")\n",
    "# lines = f1.read()\n",
    "video_data = re.sub('http://\\S+|https://\\S+', ' ', video_data)\n",
    "video_data = re.sub('http[s]?://\\S+', ' ', video_data)\n",
    "video_data = re.sub(r\"http\\S+\", \" \", video_data)\n",
    "# f1.close()\n",
    "\n",
    "# f2 = open('Video_Details.txt','w', encoding=\"utf8\")\n",
    "# f2.write(s3)\n",
    "# f2.close()"
   ]
  },
  {
   "cell_type": "code",
   "execution_count": 16,
   "id": "e846c704",
   "metadata": {},
   "outputs": [],
   "source": [
    "def remove_emoji(text):\n",
    "    from cleantext import clean\n",
    "    text = clean(text, no_emoji=True)\n",
    "    return text\n",
    "    \n",
    "def remove_punc(test_str):\n",
    "    import string\n",
    "    new_string = test_str.translate(str.maketrans('', '', string.punctuation))\n",
    "    final_str = ''.join([i for i in new_string if not i.isdigit()])\n",
    "    return final_str"
   ]
  },
  {
   "cell_type": "code",
   "execution_count": 18,
   "id": "4cc96ec5",
   "metadata": {},
   "outputs": [],
   "source": [
    "# file_name_txt = 'Video_Details.txt'\n",
    "# f1 = open(file_name_txt, encoding=\"utf8\")\n",
    "# lines = f1.read()\n",
    "# f1.close()\n",
    "\n",
    "video_data = remove_punc(video_data)\n",
    "video_data = remove_emoji(video_data)\n",
    "\n",
    "# f2 = open('Video_Details.txt','w', encoding=\"utf8\")\n",
    "# f2.write(l3)\n",
    "# f2.close()\n"
   ]
  },
  {
   "cell_type": "code",
   "execution_count": 20,
   "id": "fc6a172b",
   "metadata": {},
   "outputs": [],
   "source": [
    "def keyword(data):\n",
    "    # f3 = open(name, 'r', encoding = \"utf8\")\n",
    "    # data = f3.read() \n",
    "    word = data.split()\n",
    "    dict = {}\n",
    "    for j in word:\n",
    "        if j in dict.keys():\n",
    "            dict[j] += 1\n",
    "        else:\n",
    "            dict[j] = 1\n",
    "    # f3.close()\n",
    "    return dict"
   ]
  },
  {
   "cell_type": "code",
   "execution_count": 21,
   "id": "dc9ac4cd",
   "metadata": {},
   "outputs": [],
   "source": [
    "video_key = keyword(video_data)\n",
    "# print(len(video_key))"
   ]
  },
  {
   "cell_type": "code",
   "execution_count": 22,
   "id": "3e696043",
   "metadata": {},
   "outputs": [],
   "source": [
    "with open('non_edu.csv', mode='r', encoding = \"utf8\") as ne:\n",
    "    reader = csv.reader(ne)\n",
    "    non_edu = {rows[0]:rows[1] for rows in reader}"
   ]
  },
  {
   "cell_type": "code",
   "execution_count": 23,
   "id": "8a5de3ac",
   "metadata": {},
   "outputs": [],
   "source": [
    "cd = []\n",
    "non_edu_dict = {}\n",
    "for j in non_edu:\n",
    "    if j in video_key.keys():\n",
    "        cd.append(j)\n",
    "\n",
    "# print(len(cd))\n",
    "\n",
    "for k in cd:\n",
    "    non_edu_dict[k] = video_key[k]\n",
    "    del video_key[k]"
   ]
  },
  {
   "cell_type": "code",
   "execution_count": 24,
   "id": "42f09ffe",
   "metadata": {},
   "outputs": [],
   "source": [
    "with open('keyword_12.csv', mode='r', encoding = \"utf8\") as f:\n",
    "    reader = csv.reader(f)\n",
    "    key_dict = {rows[0]:rows[1] for rows in reader}\n",
    "        "
   ]
  },
  {
   "cell_type": "code",
   "execution_count": 25,
   "id": "ac32ad88",
   "metadata": {},
   "outputs": [],
   "source": [
    "i = 0\n",
    "for key in video_key:\n",
    "    if key in key_dict:\n",
    "        i = i+1\n",
    "# print(i)"
   ]
  },
  {
   "cell_type": "code",
   "execution_count": 28,
   "id": "8a517fbc",
   "metadata": {},
   "outputs": [
    {
     "name": "stdout",
     "output_type": "stream",
     "text": [
      "Harry Potter And The Cursed Child (2022) Teaser Trailer | Warner Bros Pictures' Wizarding World (HD)\n",
      "\n",
      "The Video is Not Educational.\n",
      "\n"
     ]
    }
   ],
   "source": [
    "per = i*100/(len(video_key))\n",
    "# print(str(per)+'%')\n",
    "if per > 30:\n",
    "    print(video_details[0]['Title'])\n",
    "    print(\"\\nThe Video is Educational.\\n\")\n",
    "else:\n",
    "    print(video_details[0]['Title'])\n",
    "    print(\"\\nThe Video is Not Educational.\\n\")"
   ]
  },
  {
   "cell_type": "code",
   "execution_count": 23,
   "id": "995760b9",
   "metadata": {},
   "outputs": [],
   "source": [
    "# len(non_edu_dict)"
   ]
  },
  {
   "cell_type": "code",
   "execution_count": 24,
   "id": "74869b13",
   "metadata": {},
   "outputs": [],
   "source": [
    "# len(video_key)"
   ]
  },
  {
   "cell_type": "code",
   "execution_count": 25,
   "id": "6b61175e",
   "metadata": {},
   "outputs": [],
   "source": [
    "# def update_data():\n",
    "#     if per > 30:\n",
    "#         with open('keyword_12.csv', mode='r', encoding = \"utf8\") as f:\n",
    "#             reader = csv.reader(f)\n",
    "#             key_dict = {rows[0]:rows[1] for rows in reader}\n",
    "\n",
    "#         for j in video_key.keys():\n",
    "#             if j in key_dict.keys():\n",
    "#                 # key_dict[j] += video_key[j]\n",
    "#                 pass\n",
    "#             else:\n",
    "#                 key_dict[j] = 1\n",
    "        \n",
    "#         my_dictionary = key_dict\n",
    "#         with open('keyword_12.csv', 'w') as f:\n",
    "#             for key in my_dictionary.keys():\n",
    "#                 f.write(\"%s, %s\\n\" % (key, my_dictionary[key]))\n",
    "\n",
    "\n",
    "#     else:\n",
    "#         with open('non_edu.csv', mode='r', encoding = \"utf8\") as ne:\n",
    "#             reader = csv.reader(ne)\n",
    "#             non_edu = {rows[0]:rows[1] for rows in reader}\n",
    "\n",
    "#         for j in video_key.keys():\n",
    "#             if j in non_edu.keys():\n",
    "#                 # non_edu[j] += 1\n",
    "#                 pass\n",
    "#             else:\n",
    "#                 non_edu[j] = 1\n",
    "        \n",
    "#         my_dictionary = non_edu\n",
    "#         with open('non_edu.csv', 'w') as f:\n",
    "#             for key in my_dictionary.keys():\n",
    "#                 f.write(\"%s, %s\\n\" % (key, my_dictionary[key]))\n"
   ]
  },
  {
   "cell_type": "code",
   "execution_count": 26,
   "id": "27ec1795",
   "metadata": {},
   "outputs": [],
   "source": [
    "# update_data()"
   ]
  },
  {
   "cell_type": "code",
   "execution_count": null,
   "id": "7a7164a0",
   "metadata": {},
   "outputs": [],
   "source": []
  }
 ],
 "metadata": {
  "kernelspec": {
   "display_name": "Python 3.10.5 64-bit",
   "language": "python",
   "name": "python3"
  },
  "language_info": {
   "codemirror_mode": {
    "name": "ipython",
    "version": 3
   },
   "file_extension": ".py",
   "mimetype": "text/x-python",
   "name": "python",
   "nbconvert_exporter": "python",
   "pygments_lexer": "ipython3",
   "version": "3.10.5"
  },
  "vscode": {
   "interpreter": {
    "hash": "25ed51981eb28f75690f46c5c4fe6b329891279e4ae885bbb2876b01fbd0a731"
   }
  }
 },
 "nbformat": 4,
 "nbformat_minor": 5
}
